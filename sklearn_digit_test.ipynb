{
 "cells": [
  {
   "cell_type": "code",
   "execution_count": 1,
   "metadata": {
    "ExecuteTime": {
     "end_time": "2016-12-18T17:51:26.951207",
     "start_time": "2016-12-18T17:51:24.549069"
    },
    "collapsed": false
   },
   "outputs": [],
   "source": [
    "# Import datasets, classifiers and performance metrics\n",
    "from sklearn import datasets, svm, metrics\n",
    "\n",
    "import numpy as np"
   ]
  },
  {
   "cell_type": "code",
   "execution_count": 2,
   "metadata": {
    "ExecuteTime": {
     "end_time": "2016-12-18T17:51:27.701250",
     "start_time": "2016-12-18T17:51:26.953207"
    },
    "collapsed": true
   },
   "outputs": [],
   "source": [
    "digits = datasets.load_digits()"
   ]
  },
  {
   "cell_type": "code",
   "execution_count": 3,
   "metadata": {
    "ExecuteTime": {
     "end_time": "2016-12-18T17:53:04.616793",
     "start_time": "2016-12-18T17:53:04.606792"
    },
    "collapsed": false
   },
   "outputs": [
    {
     "name": "stdout",
     "output_type": "stream",
     "text": [
      "(8, 8)\n"
     ]
    },
    {
     "data": {
      "text/plain": [
       "Counter({0: 178,\n",
       "         1: 182,\n",
       "         2: 177,\n",
       "         3: 183,\n",
       "         4: 181,\n",
       "         5: 182,\n",
       "         6: 181,\n",
       "         7: 179,\n",
       "         8: 174,\n",
       "         9: 180})"
      ]
     },
     "execution_count": 3,
     "metadata": {},
     "output_type": "execute_result"
    }
   ],
   "source": [
    "from collections import Counter\n",
    "print(digits.images[0].shape)\n",
    "Counter(digits.target)"
   ]
  },
  {
   "cell_type": "code",
   "execution_count": 6,
   "metadata": {
    "ExecuteTime": {
     "end_time": "2016-12-18T17:53:04.951812",
     "start_time": "2016-12-18T17:53:04.941811"
    },
    "collapsed": false
   },
   "outputs": [
    {
     "name": "stdout",
     "output_type": "stream",
     "text": [
      "[[  0.   0.   0.  11.  13.   5.   0.   0.]\n",
      " [  0.   0.   3.  16.  13.   3.   0.   0.]\n",
      " [  0.   0.  10.  16.   2.   0.   0.   0.]\n",
      " [  0.   4.  16.  16.  13.   7.   0.   0.]\n",
      " [  0.   4.  16.  11.   8.  16.   2.   0.]\n",
      " [  0.   0.  15.   8.   0.  15.   6.   0.]\n",
      " [  0.   0.   9.  14.   4.  15.   4.   0.]\n",
      " [  0.   0.   1.  10.  16.  11.   1.   0.]]\n",
      "6\n"
     ]
    }
   ],
   "source": [
    "print(digits.images[802])\n",
    "print(digits.target[802])"
   ]
  },
  {
   "cell_type": "code",
   "execution_count": 9,
   "metadata": {
    "collapsed": false
   },
   "outputs": [
    {
     "data": {
      "text/plain": [
       "array([  0.,   0.,   0.,  11.,  13.,   5.,   0.,   0.,   0.,   0.,   3.,\n",
       "        16.,  13.,   3.,   0.,   0.,   0.,   0.,  10.,  16.,   2.,   0.,\n",
       "         0.,   0.,   0.,   4.,  16.,  16.,  13.,   7.,   0.,   0.,   0.,\n",
       "         4.,  16.,  11.,   8.,  16.,   2.,   0.,   0.,   0.,  15.,   8.,\n",
       "         0.,  15.,   6.,   0.,   0.,   0.,   9.,  14.,   4.,  15.,   4.,\n",
       "         0.,   0.,   0.,   1.,  10.,  16.,  11.,   1.,   0.])"
      ]
     },
     "execution_count": 9,
     "metadata": {},
     "output_type": "execute_result"
    }
   ],
   "source": [
    "digits.images[802].reshape(-1)"
   ]
  },
  {
   "cell_type": "code",
   "execution_count": 15,
   "metadata": {
    "collapsed": false
   },
   "outputs": [
    {
     "data": {
      "text/plain": [
       "(1797, 64)"
      ]
     },
     "execution_count": 15,
     "metadata": {},
     "output_type": "execute_result"
    }
   ],
   "source": [
    "digits.images.reshape((len(digits.images), -1)).shape"
   ]
  },
  {
   "cell_type": "code",
   "execution_count": 5,
   "metadata": {
    "ExecuteTime": {
     "end_time": "2016-12-18T14:31:52.174289",
     "start_time": "2016-12-18T14:31:51.994278"
    },
    "collapsed": false
   },
   "outputs": [
    {
     "name": "stdout",
     "output_type": "stream",
     "text": [
      "[0 1 2 3 4 5 6 7 8 9]\n"
     ]
    }
   ],
   "source": [
    "print(digits.target_names)"
   ]
  },
  {
   "cell_type": "code",
   "execution_count": 6,
   "metadata": {
    "ExecuteTime": {
     "end_time": "2016-12-18T14:31:52.313297",
     "start_time": "2016-12-18T14:31:52.176289"
    },
    "collapsed": true
   },
   "outputs": [],
   "source": [
    "images_and_labels = list(zip(digits.images, digits.target))"
   ]
  },
  {
   "cell_type": "code",
   "execution_count": 7,
   "metadata": {
    "ExecuteTime": {
     "end_time": "2016-12-18T14:31:52.965334",
     "start_time": "2016-12-18T14:31:52.315297"
    },
    "collapsed": false
   },
   "outputs": [
    {
     "name": "stdout",
     "output_type": "stream",
     "text": [
      "(array([[  0.,   0.,   0.,  10.,  15.,   0.,   0.,   0.],\n",
      "       [  0.,   0.,  11.,  15.,   3.,   0.,   0.,   0.],\n",
      "       [  0.,   7.,  15.,   4.,   0.,   0.,   0.,   0.],\n",
      "       [  0.,  12.,  11.,   1.,   3.,   8.,   2.,   0.],\n",
      "       [  0.,   4.,  12.,  15.,  15.,  16.,   9.,   0.],\n",
      "       [  0.,   0.,   0.,   8.,  16.,   8.,   2.,   0.],\n",
      "       [  0.,   0.,   0.,  10.,  12.,   0.,   0.,   0.],\n",
      "       [  0.,   0.,   0.,  12.,   9.,   0.,   0.,   0.]]), 4)\n"
     ]
    }
   ],
   "source": [
    "print(images_and_labels[110])"
   ]
  },
  {
   "cell_type": "code",
   "execution_count": 8,
   "metadata": {
    "ExecuteTime": {
     "end_time": "2016-12-18T14:31:53.433361",
     "start_time": "2016-12-18T14:31:52.969334"
    },
    "collapsed": false
   },
   "outputs": [
    {
     "name": "stdout",
     "output_type": "stream",
     "text": [
      "id: 0, img: [[  0.   0.   0.   2.  13.   0.   0.   0.]\n",
      " [  0.   0.   0.   8.  15.   0.   0.   0.]\n",
      " [  0.   0.   5.  16.   5.   2.   0.   0.]\n",
      " [  0.   0.  15.  12.   1.  16.   4.   0.]\n",
      " [  0.   4.  16.   2.   9.  16.   8.   0.]\n",
      " [  0.   0.  10.  14.  16.  16.   4.   0.]\n",
      " [  0.   0.   0.   0.  13.   8.   0.   0.]\n",
      " [  0.   0.   0.   0.  13.   6.   0.   0.]], label: 4\n",
      "id: 1, img: [[  0.   0.   1.  12.   5.   0.   0.   0.]\n",
      " [  0.   0.   9.  16.  14.   3.   0.   0.]\n",
      " [  0.   2.  16.  14.  11.  13.   0.   0.]\n",
      " [  0.   2.  16.  10.   0.  14.   4.   0.]\n",
      " [  0.   4.  16.   0.   0.  12.   4.   0.]\n",
      " [  0.   4.  16.   3.   0.  11.  10.   0.]\n",
      " [  0.   0.  13.  12.   8.  14.   6.   0.]\n",
      " [  0.   0.   3.  10.  16.  12.   1.   0.]], label: 0\n",
      "id: 2, img: [[  0.   0.  12.  16.  16.   8.   0.   0.]\n",
      " [  0.   3.  16.  13.   8.   5.   0.   0.]\n",
      " [  0.   2.  16.   3.   0.   0.   0.   0.]\n",
      " [  0.   0.  16.  13.   9.   0.   0.   0.]\n",
      " [  0.   0.  10.  16.  16.   7.   0.   0.]\n",
      " [  0.   0.   0.   1.  10.  13.   0.   0.]\n",
      " [  0.   0.   2.  11.  16.  10.   0.   0.]\n",
      " [  0.   0.  11.  16.  12.   0.   0.   0.]], label: 5\n",
      "id: 3, img: [[  0.   4.  13.  16.  16.  12.   3.   0.]\n",
      " [  0.   3.   7.   4.  13.  16.   6.   0.]\n",
      " [  0.   0.   0.   8.  15.   5.   0.   0.]\n",
      " [  0.   0.   0.  12.   8.   0.   0.   0.]\n",
      " [  0.   0.   0.   7.  12.   0.   0.   0.]\n",
      " [  0.   0.   0.   4.  12.   0.   0.   0.]\n",
      " [  0.   1.   7.  12.  11.   0.   0.   0.]\n",
      " [  0.   3.  15.  12.   2.   0.   0.   0.]], label: 3\n",
      "id: 4, img: [[  0.   0.   0.   8.  14.   4.   0.   0.]\n",
      " [  0.   0.   7.  16.   7.   0.   0.   0.]\n",
      " [  0.   0.  14.  10.   0.   0.   0.   0.]\n",
      " [  0.   1.  16.   6.   0.   0.   0.   0.]\n",
      " [  0.   3.  16.  16.  10.   0.   0.   0.]\n",
      " [  0.   2.  16.  12.  14.   6.   0.   0.]\n",
      " [  0.   0.  12.  15.  11.  10.   0.   0.]\n",
      " [  0.   0.   0.  10.  13.   8.   0.   0.]], label: 6\n"
     ]
    }
   ],
   "source": [
    "for index, (image, label) in enumerate(images_and_labels[100:105]):\n",
    "    print('id: {}, img: {}, label: {}'.format(index, image, label))"
   ]
  },
  {
   "cell_type": "code",
   "execution_count": 9,
   "metadata": {
    "ExecuteTime": {
     "end_time": "2016-12-18T14:31:53.688375",
     "start_time": "2016-12-18T14:31:53.437361"
    },
    "collapsed": true
   },
   "outputs": [],
   "source": [
    "a = np.array([[1,2,3], [4,5,6]])"
   ]
  },
  {
   "cell_type": "code",
   "execution_count": 10,
   "metadata": {
    "ExecuteTime": {
     "end_time": "2016-12-18T14:31:53.839384",
     "start_time": "2016-12-18T14:31:53.694376"
    },
    "collapsed": false
   },
   "outputs": [
    {
     "data": {
      "text/plain": [
       "array([[1, 2, 3, 4, 5, 6]])"
      ]
     },
     "execution_count": 10,
     "metadata": {},
     "output_type": "execute_result"
    }
   ],
   "source": [
    "a.reshape((1, -1))"
   ]
  },
  {
   "cell_type": "code",
   "execution_count": 11,
   "metadata": {
    "ExecuteTime": {
     "end_time": "2016-12-18T14:31:54.029395",
     "start_time": "2016-12-18T14:31:53.847384"
    },
    "collapsed": false
   },
   "outputs": [],
   "source": [
    "n_samples = len(digits.images)\n",
    "data = digits.images.reshape((n_samples, -1))"
   ]
  },
  {
   "cell_type": "code",
   "execution_count": 12,
   "metadata": {
    "ExecuteTime": {
     "end_time": "2016-12-18T14:31:54.144401",
     "start_time": "2016-12-18T14:31:54.033395"
    },
    "collapsed": false
   },
   "outputs": [
    {
     "name": "stdout",
     "output_type": "stream",
     "text": [
      "[[  0.   0.   5.  13.   9.   1.   0.   0.   0.   0.  13.  15.  10.  15.\n",
      "    5.   0.   0.   3.  15.   2.   0.  11.   8.   0.   0.   4.  12.   0.\n",
      "    0.   8.   8.   0.   0.   5.   8.   0.   0.   9.   8.   0.   0.   4.\n",
      "   11.   0.   1.  12.   7.   0.   0.   2.  14.   5.  10.  12.   0.   0.\n",
      "    0.   0.   6.  13.  10.   0.   0.   0.]\n",
      " [  0.   0.   0.  12.  13.   5.   0.   0.   0.   0.   0.  11.  16.   9.\n",
      "    0.   0.   0.   0.   3.  15.  16.   6.   0.   0.   0.   7.  15.  16.\n",
      "   16.   2.   0.   0.   0.   0.   1.  16.  16.   3.   0.   0.   0.   0.\n",
      "    1.  16.  16.   6.   0.   0.   0.   0.   1.  16.  16.   6.   0.   0.\n",
      "    0.   0.   0.  11.  16.  10.   0.   0.]]\n",
      "[5 3]\n"
     ]
    }
   ],
   "source": [
    "print(data[:2])\n",
    "print(digits.target[102:104])"
   ]
  },
  {
   "cell_type": "code",
   "execution_count": null,
   "metadata": {
    "collapsed": true
   },
   "outputs": [],
   "source": []
  }
 ],
 "metadata": {
  "anaconda-cloud": {},
  "kernelspec": {
   "display_name": "Python [default]",
   "language": "python",
   "name": "python3"
  },
  "language_info": {
   "codemirror_mode": {
    "name": "ipython",
    "version": 3
   },
   "file_extension": ".py",
   "mimetype": "text/x-python",
   "name": "python",
   "nbconvert_exporter": "python",
   "pygments_lexer": "ipython3",
   "version": "3.5.2"
  }
 },
 "nbformat": 4,
 "nbformat_minor": 0
}
